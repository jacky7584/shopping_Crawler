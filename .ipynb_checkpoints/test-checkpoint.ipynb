{
 "cells": [
  {
   "cell_type": "code",
   "execution_count": 23,
   "id": "df9c322a",
   "metadata": {},
   "outputs": [
    {
     "ename": "AttributeError",
     "evalue": "'WebDriver' object has no attribute 'find_element_by_link_text'",
     "output_type": "error",
     "traceback": [
      "\u001b[0;31m---------------------------------------------------------------------------\u001b[0m",
      "\u001b[0;31mAttributeError\u001b[0m                            Traceback (most recent call last)",
      "Input \u001b[0;32mIn [23]\u001b[0m, in \u001b[0;36m<cell line: 14>\u001b[0;34m()\u001b[0m\n\u001b[1;32m     12\u001b[0m \u001b[38;5;66;03m# 獲取網頁內容\u001b[39;00m\n\u001b[1;32m     13\u001b[0m page_content \u001b[38;5;241m=\u001b[39m driver\u001b[38;5;241m.\u001b[39mpage_source\n\u001b[0;32m---> 14\u001b[0m next_page_button \u001b[38;5;241m=\u001b[39m \u001b[43mdriver\u001b[49m\u001b[38;5;241;43m.\u001b[39;49m\u001b[43mfind_element_by_link_text\u001b[49m(\u001b[38;5;124m\"\u001b[39m\u001b[38;5;124m下一頁\u001b[39m\u001b[38;5;124m\"\u001b[39m)\n\u001b[1;32m     15\u001b[0m next_page_button\u001b[38;5;241m.\u001b[39mclick()\n\u001b[1;32m     16\u001b[0m \u001b[38;5;28;01mfrom\u001b[39;00m \u001b[38;5;21;01mselenium\u001b[39;00m\u001b[38;5;21;01m.\u001b[39;00m\u001b[38;5;21;01mwebdriver\u001b[39;00m\u001b[38;5;21;01m.\u001b[39;00m\u001b[38;5;21;01mcommon\u001b[39;00m\u001b[38;5;21;01m.\u001b[39;00m\u001b[38;5;21;01mby\u001b[39;00m \u001b[38;5;28;01mimport\u001b[39;00m By\n",
      "\u001b[0;31mAttributeError\u001b[0m: 'WebDriver' object has no attribute 'find_element_by_link_text'"
     ]
    }
   ],
   "source": [
    "from selenium import webdriver\n",
    "\n",
    "# 初始化Safari WebDriver\n",
    "driver = webdriver.Safari()\n",
    "\n",
    "# 載入網頁\n",
    "driver.get(\"https://www.momoshop.com.tw/search/searchShop.jsp?keyword=%E5%AF%B5%E7%89%A9%E7%94%A8%E5%93%81&searchType=1&curPage=1&_isFuzzy=0&showType=chessboardType&serviceCode=MT01\")\n",
    "\n",
    "# 等待網頁完全載入（可以根據實際情況調整等待時間）\n",
    "driver.implicitly_wait(10)\n",
    "\n",
    "# 獲取網頁內容\n",
    "page_content = driver.page_source\n",
    "next_page_button = driver.find_element(By.LINK_TEXT,\"下一頁\")\n",
    "next_page_button.click()\n",
    "from selenium.webdriver.common.by import By\n",
    "\n",
    "element = driver.find_element(By.CSS_SELECTOR, \"span.totalTxt b\")\n",
    "total_count = element.text\n",
    "print(\"總件數:\", total_count)\n",
    "elements = driver.find_elements(By.CSS_SELECTOR,\"div.prdNameTitle h3.prdName\")\n",
    "\n",
    "title=[]\n",
    "for element in elements:\n",
    "    text = element.text\n",
    "    title.append(text)\n",
    "\n",
    "money=[]\n",
    "\n",
    "\n",
    "element = driver.find_elements(By.CSS_SELECTOR, \"p.money\")\n",
    "for element in elements:\n",
    "    text = element.text\n",
    "    money.append(text)\n",
    "print(len(money))\n",
    "print(len(title))\n",
    "\n",
    "driver.quit()\n",
    "\n",
    "\n"
   ]
  },
  {
   "cell_type": "code",
   "execution_count": null,
   "id": "8f43e5e4",
   "metadata": {},
   "outputs": [],
   "source": []
  }
 ],
 "metadata": {
  "kernelspec": {
   "display_name": "Python 3 (ipykernel)",
   "language": "python",
   "name": "python3"
  },
  "language_info": {
   "codemirror_mode": {
    "name": "ipython",
    "version": 3
   },
   "file_extension": ".py",
   "mimetype": "text/x-python",
   "name": "python",
   "nbconvert_exporter": "python",
   "pygments_lexer": "ipython3",
   "version": "3.8.5"
  }
 },
 "nbformat": 4,
 "nbformat_minor": 5
}
